{
  "cells": [
    {
      "cell_type": "markdown",
      "metadata": {
        "id": "view-in-github",
        "colab_type": "text"
      },
      "source": [
        "<a href=\"https://colab.research.google.com/github/Leonardofsm/My_First_LLM/blob/main/Copy_of_%5BImers%C3%A3o_IA_2%C2%AA_edi%C3%A7%C3%A3o%5D_C%C3%B3digo_Aula_04.ipynb\" target=\"_parent\"><img src=\"https://colab.research.google.com/assets/colab-badge.svg\" alt=\"Open In Colab\"/></a>"
      ]
    },
    {
      "cell_type": "code",
      "execution_count": 1,
      "metadata": {
        "id": "nFQLKQ6hfXch"
      },
      "outputs": [],
      "source": [
        "#Instalando o SDK do Google\n",
        "!pip install -q -U google-generativeai"
      ]
    },
    {
      "cell_type": "code",
      "execution_count": 3,
      "metadata": {
        "id": "IthzwfnAfcsi"
      },
      "outputs": [],
      "source": [
        "#Configurações iniciais\n",
        "import google.generativeai as genai\n",
        "from google.colab import userdata\n",
        "api_key = userdata.get('SECRET_KEY')\n",
        "genai.configure(api_key=api_key)"
      ]
    },
    {
      "cell_type": "code",
      "execution_count": 4,
      "metadata": {
        "colab": {
          "base_uri": "https://localhost:8080/",
          "height": 138
        },
        "id": "iD3ihugymWBt",
        "outputId": "31bf8379-ca63-423e-e5fc-0abf6021cd1f"
      },
      "outputs": [
        {
          "output_type": "stream",
          "name": "stdout",
          "text": [
            "models/gemini-1.0-pro\n",
            "models/gemini-1.0-pro-001\n",
            "models/gemini-1.0-pro-latest\n",
            "models/gemini-1.0-pro-vision-latest\n",
            "models/gemini-1.5-pro-latest\n",
            "models/gemini-pro\n",
            "models/gemini-pro-vision\n"
          ]
        }
      ],
      "source": [
        "#Listando os modelos disponíveis\n",
        "for m in genai.list_models():\n",
        "  if 'generateContent' in m.supported_generation_methods:\n",
        "    print(m.name)"
      ]
    },
    {
      "cell_type": "code",
      "execution_count": null,
      "metadata": {
        "id": "O1ochaeyDn_o"
      },
      "outputs": [],
      "source": [
        "generation_config = {\n",
        "  \"candidate_count\": 1,\n",
        "  \"temperature\": 0.5,\n",
        "}"
      ]
    },
    {
      "cell_type": "code",
      "execution_count": null,
      "metadata": {
        "id": "jwBv7DofDofw"
      },
      "outputs": [],
      "source": [
        "safety_settings={\n",
        "    'HATE': 'BLOCK_NONE',\n",
        "    'HARASSMENT': 'BLOCK_NONE',\n",
        "    'SEXUAL' : 'BLOCK_NONE',\n",
        "    'DANGEROUS' : 'BLOCK_NONE'\n",
        "    }"
      ]
    },
    {
      "cell_type": "code",
      "execution_count": null,
      "metadata": {
        "id": "NIiSs1R5mVJE"
      },
      "outputs": [],
      "source": [
        "model = genai.GenerativeModel(model_name='gemini-1.0-pro',\n",
        "                                  generation_config=generation_config,\n",
        "                                  safety_settings=safety_settings,)"
      ]
    },
    {
      "cell_type": "code",
      "execution_count": null,
      "metadata": {
        "colab": {
          "base_uri": "https://localhost:8080/",
          "height": 35
        },
        "id": "vrRjhT2rlrU_",
        "outputId": "c1042bab-a778-4b93-9f7d-7b37d7017cfd"
      },
      "outputs": [
        {
          "output_type": "execute_result",
          "data": {
            "text/plain": [
              "'Google'"
            ],
            "application/vnd.google.colaboratory.intrinsic+json": {
              "type": "string"
            }
          },
          "metadata": {},
          "execution_count": 8
        }
      ],
      "source": [
        "response = model.generate_content(\"Que empresa criou o modelo de IA Gemini?\")\n",
        "response.text"
      ]
    },
    {
      "cell_type": "code",
      "execution_count": null,
      "metadata": {
        "colab": {
          "base_uri": "https://localhost:8080/",
          "height": 329
        },
        "id": "KpaQ6hm5f2_J",
        "outputId": "d2e40d71-2b81-4e62-e139-1d3a8b46c0e6"
      },
      "outputs": [
        {
          "name": "stdout",
          "output_type": "stream",
          "text": [
            "Esperando prompt: qual a capital da Australia?\n",
            "Resposta: Camberra \n",
            "\n",
            "\n",
            "Esperando prompt: Qual a comida tipica deste pais?\n",
            "Resposta: * **Pavlova:** Uma sobremesa feita com uma base de merengue coberta com frutas frescas e chantilly.\n",
            "* **Lamington:** Um bolo quadrado coberto com chocolate e polvilhado com coco ralado.\n",
            "* **Torta de carne:** Uma torta salgada feita com carne moída, cebola e molho.\n",
            "* **Peixe com batatas fritas:** Um prato clássico de peixe frito e batatas fritas.\n",
            "* **Bangers and mash:** Salsichas grelhadas servidas com purê de batatas.\n",
            "* **Vegemite:** Uma pasta salgada feita de extrato de levedura, popularmente espalhada em torradas.\n",
            "* **Tim Tam:** Um biscoito de chocolate em forma de retângulo, coberto com uma camada de creme de chocolate.\n",
            "* **Anzac biscuit:** Um biscoito de aveia doce, originalmente feito durante a Primeira Guerra Mundial para os soldados da ANZAC (Australian and New Zealand Army Corps).\n",
            "* **Kangaroo:** Carne de canguru, geralmente grelhada ou assada.\n",
            "* **Emut:** Carne de emu, uma ave nativa da Austrália. \n",
            "\n",
            "\n",
            "Esperando prompt: fim\n"
          ]
        }
      ],
      "source": [
        "chat = model.start_chat(history=[])\n",
        "\n",
        "prompt = input('Esperando prompt: ')\n",
        "\n",
        "while prompt != \"fim\":\n",
        "  response = chat.send_message(prompt)\n",
        "  print(\"Resposta:\", response.text, '\\n\\n')\n",
        "  prompt = input('Esperando prompt: ')"
      ]
    },
    {
      "cell_type": "code",
      "execution_count": null,
      "metadata": {
        "id": "XLAniTTDhHNW",
        "colab": {
          "base_uri": "https://localhost:8080/"
        },
        "outputId": "147cb129-9e5e-49fb-e734-ddf150658dc4"
      },
      "outputs": [
        {
          "output_type": "execute_result",
          "data": {
            "text/plain": [
              "ChatSession(\n",
              "    model=genai.GenerativeModel(\n",
              "        model_name='models/gemini-1.0-pro',\n",
              "        generation_config={'candidate_count': 1, 'temperature': 0.5},\n",
              "        safety_settings={<HarmCategory.HARM_CATEGORY_HATE_SPEECH: 8>: <HarmBlockThreshold.BLOCK_NONE: 4>, <HarmCategory.HARM_CATEGORY_HARASSMENT: 7>: <HarmBlockThreshold.BLOCK_NONE: 4>, <HarmCategory.HARM_CATEGORY_SEXUALLY_EXPLICIT: 9>: <HarmBlockThreshold.BLOCK_NONE: 4>, <HarmCategory.HARM_CATEGORY_DANGEROUS_CONTENT: 10>: <HarmBlockThreshold.BLOCK_NONE: 4>},\n",
              "        tools=None,\n",
              "        system_instruction=None,\n",
              "    ),\n",
              "    history=[glm.Content({'parts': [{'text': 'qual a capital da Australia?'}], 'role': 'user'}), glm.Content({'parts': [{'text': 'Camberra'}], 'role': 'model'}), glm.Content({'parts': [{'text': 'Qual a comid...a deste pais?'}], 'role': 'user'}), glm.Content({'parts': [{'text': '* **Pavlova:...da Austrália.'}], 'role': 'model'})]\n",
              ")"
            ]
          },
          "metadata": {},
          "execution_count": 10
        }
      ],
      "source": [
        "chat"
      ]
    },
    {
      "cell_type": "code",
      "execution_count": null,
      "metadata": {
        "id": "sd8mvW9KghTf",
        "colab": {
          "base_uri": "https://localhost:8080/"
        },
        "outputId": "63816905-5bc5-4aea-9817-b07786e83a0b"
      },
      "outputs": [
        {
          "output_type": "execute_result",
          "data": {
            "text/plain": [
              "[parts {\n",
              "   text: \"qual a capital da Australia?\"\n",
              " }\n",
              " role: \"user\",\n",
              " parts {\n",
              "   text: \"Camberra\"\n",
              " }\n",
              " role: \"model\",\n",
              " parts {\n",
              "   text: \"Qual a comida tipica deste pais?\"\n",
              " }\n",
              " role: \"user\",\n",
              " parts {\n",
              "   text: \"* **Pavlova:** Uma sobremesa feita com uma base de merengue coberta com frutas frescas e chantilly.\\n* **Lamington:** Um bolo quadrado coberto com chocolate e polvilhado com coco ralado.\\n* **Torta de carne:** Uma torta salgada feita com carne mo\\303\\255da, cebola e molho.\\n* **Peixe com batatas fritas:** Um prato cl\\303\\241ssico de peixe frito e batatas fritas.\\n* **Bangers and mash:** Salsichas grelhadas servidas com pur\\303\\252 de batatas.\\n* **Vegemite:** Uma pasta salgada feita de extrato de levedura, popularmente espalhada em torradas.\\n* **Tim Tam:** Um biscoito de chocolate em forma de ret\\303\\242ngulo, coberto com uma camada de creme de chocolate.\\n* **Anzac biscuit:** Um biscoito de aveia doce, originalmente feito durante a Primeira Guerra Mundial para os soldados da ANZAC (Australian and New Zealand Army Corps).\\n* **Kangaroo:** Carne de canguru, geralmente grelhada ou assada.\\n* **Emut:** Carne de emu, uma ave nativa da Austr\\303\\241lia.\"\n",
              " }\n",
              " role: \"model\"]"
            ]
          },
          "metadata": {},
          "execution_count": 11
        }
      ],
      "source": [
        "chat.history"
      ]
    },
    {
      "cell_type": "code",
      "execution_count": null,
      "metadata": {
        "id": "dAcbPBocgzeX",
        "colab": {
          "base_uri": "https://localhost:8080/",
          "height": 447
        },
        "outputId": "9e7492cc-a3ac-4764-c9cf-8f3ed125a9f9"
      },
      "outputs": [
        {
          "output_type": "display_data",
          "data": {
            "text/plain": [
              "<IPython.core.display.Markdown object>"
            ],
            "text/markdown": "> **user**: qual a capital da Australia?"
          },
          "metadata": {}
        },
        {
          "output_type": "stream",
          "name": "stdout",
          "text": [
            "-------------------------------------------\n"
          ]
        },
        {
          "output_type": "display_data",
          "data": {
            "text/plain": [
              "<IPython.core.display.Markdown object>"
            ],
            "text/markdown": "> **model**: Camberra"
          },
          "metadata": {}
        },
        {
          "output_type": "stream",
          "name": "stdout",
          "text": [
            "-------------------------------------------\n"
          ]
        },
        {
          "output_type": "display_data",
          "data": {
            "text/plain": [
              "<IPython.core.display.Markdown object>"
            ],
            "text/markdown": "> **user**: Qual a comida tipica deste pais?"
          },
          "metadata": {}
        },
        {
          "output_type": "stream",
          "name": "stdout",
          "text": [
            "-------------------------------------------\n"
          ]
        },
        {
          "output_type": "display_data",
          "data": {
            "text/plain": [
              "<IPython.core.display.Markdown object>"
            ],
            "text/markdown": "> **model**: * **Pavlova:** Uma sobremesa feita com uma base de merengue coberta com frutas frescas e chantilly.\n> * **Lamington:** Um bolo quadrado coberto com chocolate e polvilhado com coco ralado.\n> * **Torta de carne:** Uma torta salgada feita com carne moída, cebola e molho.\n> * **Peixe com batatas fritas:** Um prato clássico de peixe frito e batatas fritas.\n> * **Bangers and mash:** Salsichas grelhadas servidas com purê de batatas.\n> * **Vegemite:** Uma pasta salgada feita de extrato de levedura, popularmente espalhada em torradas.\n> * **Tim Tam:** Um biscoito de chocolate em forma de retângulo, coberto com uma camada de creme de chocolate.\n> * **Anzac biscuit:** Um biscoito de aveia doce, originalmente feito durante a Primeira Guerra Mundial para os soldados da ANZAC (Australian and New Zealand Army Corps).\n> * **Kangaroo:** Carne de canguru, geralmente grelhada ou assada.\n> * **Emut:** Carne de emu, uma ave nativa da Austrália."
          },
          "metadata": {}
        },
        {
          "output_type": "stream",
          "name": "stdout",
          "text": [
            "-------------------------------------------\n"
          ]
        }
      ],
      "source": [
        "#Melhorando a visualização\n",
        "#Código disponível em https://ai.google.dev/tutorials/python_quickstart#import_packages\n",
        "import textwrap\n",
        "from IPython.display import display\n",
        "from IPython.display import Markdown\n",
        "\n",
        "def to_markdown(text):\n",
        "  text = text.replace('•', '  *')\n",
        "  return Markdown(textwrap.indent(text, '> ', predicate=lambda _: True))\n",
        "\n",
        "#Imprimindo o histórico\n",
        "for message in chat.history:\n",
        "  display(to_markdown(f'**{message.role}**: {message.parts[0].text}'))\n",
        "  print('-------------------------------------------')"
      ]
    }
  ],
  "metadata": {
    "colab": {
      "provenance": [],
      "include_colab_link": true
    },
    "kernelspec": {
      "display_name": "Python 3",
      "name": "python3"
    },
    "language_info": {
      "name": "python"
    }
  },
  "nbformat": 4,
  "nbformat_minor": 0
}